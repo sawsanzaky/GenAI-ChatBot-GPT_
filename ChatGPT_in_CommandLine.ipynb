{
  "nbformat": 4,
  "nbformat_minor": 0,
  "metadata": {
    "colab": {
      "provenance": [],
      "authorship_tag": "ABX9TyMq/BnsTE/BCiC7ZkiL+wZE",
      "include_colab_link": true
    },
    "kernelspec": {
      "name": "python3",
      "display_name": "Python 3"
    },
    "language_info": {
      "name": "python"
    }
  },
  "cells": [
    {
      "cell_type": "markdown",
      "metadata": {
        "id": "view-in-github",
        "colab_type": "text"
      },
      "source": [
        "<a href=\"https://colab.research.google.com/github/sawsanzaky/GenAI-ChatBot-GPT_/blob/main/ChatGPT_in_CommandLine.ipynb\" target=\"_parent\"><img src=\"https://colab.research.google.com/assets/colab-badge.svg\" alt=\"Open In Colab\"/></a>"
      ]
    },
    {
      "cell_type": "code",
      "execution_count": 1,
      "metadata": {
        "id": "W8v9P0UpVgDU"
      },
      "outputs": [],
      "source": [
        "import openai\n",
        "\n"
      ]
    },
    {
      "cell_type": "code",
      "source": [
        "openai.api_key = \"YOUR_API_KEY\"\n",
        "\n"
      ],
      "metadata": {
        "id": "IODjyYA5XueQ"
      },
      "execution_count": 2,
      "outputs": []
    },
    {
      "cell_type": "code",
      "source": [
        "def chat_with_gpt(prompt):\n",
        "    response = openai.ChatCompletion.create(\n",
        "        model=\"gpt-3.5-turbo\",\n",
        "        messages=[{\"role\": \"user\", \"content\": prompt}]\n",
        "    )\n",
        "    answer = response['choices'][0]['message']['content']\n",
        "    print(\"ChatGPT:\", answer)\n",
        "\n",
        "user_input = input(\"You: \")\n",
        "chat_with_gpt(user_input)"
      ],
      "metadata": {
        "id": "FhT5BdYOXxpC"
      },
      "execution_count": null,
      "outputs": []
    }
  ]
}